{
 "cells": [
  {
   "cell_type": "markdown",
   "id": "da0317ce",
   "metadata": {},
   "source": [
    "# ATM - Simple Project "
   ]
  },
  {
   "cell_type": "code",
   "execution_count": 66,
   "id": "c8febf98",
   "metadata": {},
   "outputs": [
    {
     "name": "stdout",
     "output_type": "stream",
     "text": [
      "\n",
      "                Hello, How would you like to proceed ?\n",
      "                1. Enter 1 to create pin\n",
      "                2. Enter 2 to deposite\n",
      "                3. Enter 3 to withdraw\n",
      "                4. Enter 4 to check balance\n",
      "                5. Enter 5 to Exit        \n",
      "        1\n",
      "Enter you pin : 1234\n",
      "Pin set successfully \n"
     ]
    }
   ],
   "source": [
    "#OOPs in Practice with Coding\n",
    "\n",
    "class Atm:\n",
    "\n",
    "    #Constructor\n",
    "    def __init__(self): #Constructor\n",
    "        self.pin = ''\n",
    "        self.balance=0\n",
    "\n",
    "        \n",
    "        self.menu()\n",
    "    \n",
    "    \n",
    "    def get_pin(self):\n",
    "        return self.pin\n",
    "\n",
    "    def set_pin(self, new_pin):\n",
    "        if type(new_pin)==str:\n",
    "            self.pin = new_pin\n",
    "            print(\"Pin Changed Succesffuly !\")\n",
    "        else:\n",
    "            print(\"Not Allowed !\")\n",
    "\n",
    "\n",
    "    def menu(self):\n",
    "        user_input = input(f\"\"\"\n",
    "                Hello, How would you like to proceed ?\n",
    "                1. Enter 1 to create pin\n",
    "                2. Enter 2 to deposite\n",
    "                3. Enter 3 to withdraw\n",
    "                4. Enter 4 to check balance\n",
    "                5. Enter 5 to Exit        \n",
    "        \"\"\")\n",
    "        if user_input == '1':\n",
    "            self.create_pin()\n",
    "        elif user_input == '2':\n",
    "            self.deposit()\n",
    "        elif user_input == '3':\n",
    "            self.withdraw()\n",
    "        elif user_input == '4':\n",
    "            self.check_balance()\n",
    "        else:\n",
    "            print(\"Bye\")\n",
    "\n",
    "    #Now we create method (functions)\n",
    "    def create_pin(self):\n",
    "        self.pin = input(\"Enter you pin : \")\n",
    "        print(\"Pin set successfully \")\n",
    "\n",
    "    def deposit(self):\n",
    "        temp = input(\"Enter you pin : \")\n",
    "        if temp == self.pin:\n",
    "            amount = int(input(\"Enter the Amount : \"))\n",
    "            self.balance = self.balance + amount\n",
    "            print(\"Deposit Successfully \")\n",
    "        else:\n",
    "            print(\"Invalid Pin\")\n",
    "\n",
    "    def withdraw(self):\n",
    "        temp = input(\"Enter you pin : \")\n",
    "        if temp == self.pin:\n",
    "            amount = int(input(\"Enter the Amount : \"))\n",
    "            if amount < self.balance:\n",
    "                self.balance = self.balance - amount\n",
    "                print(\"OPeration Successfully \")\n",
    "            else:\n",
    "                print(\"Insufficient Funds\")\n",
    "        else:\n",
    "            print(\"Invalid Pin\")\n",
    "\n",
    "    def check_balance(self):\n",
    "        temp = input(\"Enter you pin : \")\n",
    "        if temp == self.pin:\n",
    "            print(f\"Your Balance : {self.balance}\")\n",
    "        else:\n",
    "            print(\"Invalid Pin\")\n",
    "\n",
    "\n",
    "\n",
    "mehfooz1 = Atm()\n"
   ]
  },
  {
   "cell_type": "code",
   "execution_count": 46,
   "id": "716995c9",
   "metadata": {},
   "outputs": [
    {
     "data": {
      "text/plain": [
       "'1234'"
      ]
     },
     "execution_count": 46,
     "metadata": {},
     "output_type": "execute_result"
    }
   ],
   "source": [
    "mehfooz1.get_pin()"
   ]
  },
  {
   "cell_type": "code",
   "execution_count": 48,
   "id": "ebc1baef",
   "metadata": {},
   "outputs": [
    {
     "name": "stdout",
     "output_type": "stream",
     "text": [
      "Enter you pin : 1234\n",
      "Enter the Amount : 50000\n",
      "Deposit Successfully \n"
     ]
    }
   ],
   "source": [
    "mehfooz1.deposit()"
   ]
  },
  {
   "cell_type": "code",
   "execution_count": 49,
   "id": "00244ff3",
   "metadata": {},
   "outputs": [
    {
     "name": "stdout",
     "output_type": "stream",
     "text": [
      "Enter you pin : 1234\n",
      "Your Balance : 50000\n"
     ]
    }
   ],
   "source": [
    "mehfooz1.check_balance()"
   ]
  },
  {
   "cell_type": "code",
   "execution_count": 19,
   "id": "98d7fa92",
   "metadata": {},
   "outputs": [
    {
     "name": "stdout",
     "output_type": "stream",
     "text": [
      "Enter you pin : 1234\n",
      "Enter the Amount : 20000\n",
      "Deposit Successfully \n"
     ]
    }
   ],
   "source": [
    "mehfooz1.deposit()"
   ]
  },
  {
   "cell_type": "code",
   "execution_count": 20,
   "id": "06ac828c",
   "metadata": {},
   "outputs": [
    {
     "name": "stdout",
     "output_type": "stream",
     "text": [
      "Enter you pin : 1234\n",
      "Your Balance : 25000\n"
     ]
    }
   ],
   "source": [
    "mehfooz1.check_balance()"
   ]
  },
  {
   "cell_type": "code",
   "execution_count": 21,
   "id": "0f99596f",
   "metadata": {},
   "outputs": [
    {
     "name": "stdout",
     "output_type": "stream",
     "text": [
      "Enter you pin : 1234\n",
      "Enter the Amount : 15000\n",
      "OPeration Successfully \n"
     ]
    }
   ],
   "source": [
    "mehfooz1.withdraw()"
   ]
  },
  {
   "cell_type": "code",
   "execution_count": 22,
   "id": "a52932bd",
   "metadata": {},
   "outputs": [
    {
     "name": "stdout",
     "output_type": "stream",
     "text": [
      "Enter you pin : 1234\n",
      "Your Balance : 10000\n"
     ]
    }
   ],
   "source": [
    "mehfooz1.check_balance()"
   ]
  },
  {
   "cell_type": "code",
   "execution_count": 24,
   "id": "d3892ccf",
   "metadata": {},
   "outputs": [
    {
     "data": {
      "text/plain": [
       "'1234'"
      ]
     },
     "execution_count": 24,
     "metadata": {},
     "output_type": "execute_result"
    }
   ],
   "source": [
    "mehfooz1.get_pin()"
   ]
  },
  {
   "cell_type": "code",
   "execution_count": 35,
   "id": "a4ad165a",
   "metadata": {},
   "outputs": [
    {
     "name": "stdout",
     "output_type": "stream",
     "text": [
      "Not Allowed !\n"
     ]
    }
   ],
   "source": [
    "#We have set that -integer pass not allowed\n",
    "mehfooz1.set_pin(1434)"
   ]
  },
  {
   "cell_type": "code",
   "execution_count": 37,
   "id": "14b2ed95",
   "metadata": {},
   "outputs": [
    {
     "name": "stdout",
     "output_type": "stream",
     "text": [
      "Pin Changed Succesffuly !\n"
     ]
    }
   ],
   "source": [
    "mehfooz1.set_pin(\"pass\")"
   ]
  },
  {
   "cell_type": "code",
   "execution_count": 38,
   "id": "c10de464",
   "metadata": {},
   "outputs": [
    {
     "data": {
      "text/plain": [
       "'pass'"
      ]
     },
     "execution_count": 38,
     "metadata": {},
     "output_type": "execute_result"
    }
   ],
   "source": [
    "mehfooz1.get_pin()"
   ]
  },
  {
   "cell_type": "code",
   "execution_count": 69,
   "id": "ba368fdd",
   "metadata": {},
   "outputs": [
    {
     "name": "stdout",
     "output_type": "stream",
     "text": [
      "\n",
      "                Hello, How would you like to proceed ?\n",
      "                1. Enter 1 to create pin\n",
      "                2. Enter 2 to deposite\n",
      "                3. Enter 3 to withdraw\n",
      "                4. Enter 4 to check balance\n",
      "                5. Enter 5 to Exit        \n",
      "        5\n",
      "Bye\n"
     ]
    }
   ],
   "source": [
    "m1 = Atm()"
   ]
  },
  {
   "cell_type": "markdown",
   "id": "ca8d0777",
   "metadata": {},
   "source": [
    "# ATM with Encapsulation \n",
    "    - Getter\n",
    "    - Setter \n",
    "    - Hide Details"
   ]
  },
  {
   "cell_type": "code",
   "execution_count": 56,
   "id": "80199c38",
   "metadata": {},
   "outputs": [
    {
     "name": "stdout",
     "output_type": "stream",
     "text": [
      "\n",
      "                Hello, How would you like to proceed ?\n",
      "                1. Enter 1 to create pin\n",
      "                2. Enter 2 to deposite\n",
      "                3. Enter 3 to withdraw\n",
      "                4. Enter 4 to check balance\n",
      "                5. Enter 5 to Exit        \n",
      "        1\n",
      "Enter you pin : 1234\n",
      "Pin set successfully \n"
     ]
    }
   ],
   "source": [
    "#OOPs in Practice with Coding\n",
    "\n",
    "class Atm:\n",
    "    #Constructor\n",
    "    def __init__(self): #Constructor\n",
    "        self.__pin = ''\n",
    "        self.__balance=0\n",
    "        \n",
    "        self.__menu()\n",
    "    \n",
    "    \n",
    "    def get_pin(self):\n",
    "        return self.__pin\n",
    "\n",
    "    def set_pin(self, new_pin):\n",
    "        if type(new_pin)==str:\n",
    "            self.__pin = new_pin\n",
    "            print(\"Pin Changed Succesffuly !\")\n",
    "        else:\n",
    "            print(\"Not Allowed !\")\n",
    "\n",
    "\n",
    "    def __menu(self):\n",
    "        user_input = input(f\"\"\"\n",
    "                Hello, How would you like to proceed ?\n",
    "                1. Enter 1 to create pin\n",
    "                2. Enter 2 to deposite\n",
    "                3. Enter 3 to withdraw\n",
    "                4. Enter 4 to check balance\n",
    "                5. Enter 5 to Exit        \n",
    "        \"\"\")\n",
    "        if user_input == '1':\n",
    "            self.create_pin()\n",
    "        elif user_input == '2':\n",
    "            self.deposit()\n",
    "        elif user_input == '3':\n",
    "            self.withdraw()\n",
    "        elif user_input == '4':\n",
    "            self.check_balance()\n",
    "        else:\n",
    "            print(\"Bye\")\n",
    "\n",
    "    #Now we create method (functions)\n",
    "    def create_pin(self):\n",
    "        self.__pin = input(\"Enter you pin : \")\n",
    "        print(\"Pin set successfully \")\n",
    "\n",
    "    def deposit(self):\n",
    "        temp = input(\"Enter you pin : \")\n",
    "        if temp == self.__pin:\n",
    "            amount = int(input(\"Enter the Amount : \"))\n",
    "            self.__balance = self.__balance + amount\n",
    "            print(\"Deposit Successfully \")\n",
    "        else:\n",
    "            print(\"Invalid Pin\")\n",
    "\n",
    "    def withdraw(self):\n",
    "        temp = input(\"Enter you pin : \")\n",
    "        if temp == self.__pin:\n",
    "            amount = int(input(\"Enter the Amount : \"))\n",
    "            if amount < self.__balance:\n",
    "                self.__balance = self.__balance - amount\n",
    "                print(\"OPeration Successfully \")\n",
    "            else:\n",
    "                print(\"Insufficient Funds\")\n",
    "        else:\n",
    "            print(\"Invalid Pin\")\n",
    "\n",
    "    def check_balance(self):\n",
    "        temp = input(\"Enter you pin : \")\n",
    "        if temp == self.__pin:\n",
    "            print(f\"Your Balance : {self.__balance}\")\n",
    "        else:\n",
    "            print(\"Invalid Pin\")\n",
    "\n",
    "\n",
    "\n",
    "sadia1 = Atm()\n"
   ]
  },
  {
   "cell_type": "code",
   "execution_count": 58,
   "id": "88de5d87",
   "metadata": {},
   "outputs": [
    {
     "name": "stdout",
     "output_type": "stream",
     "text": [
      "Enter you pin : 1234\n",
      "Enter the Amount : 5000\n",
      "Deposit Successfully \n"
     ]
    }
   ],
   "source": [
    "sadia1.deposit()"
   ]
  },
  {
   "cell_type": "code",
   "execution_count": 59,
   "id": "9b7a8d9b",
   "metadata": {},
   "outputs": [
    {
     "name": "stdout",
     "output_type": "stream",
     "text": [
      "Pin Changed Succesffuly !\n"
     ]
    }
   ],
   "source": [
    "sadia1.set_pin('sadia')"
   ]
  },
  {
   "cell_type": "code",
   "execution_count": 60,
   "id": "f1e1d24c",
   "metadata": {},
   "outputs": [
    {
     "data": {
      "text/plain": [
       "'sadia'"
      ]
     },
     "execution_count": 60,
     "metadata": {},
     "output_type": "execute_result"
    }
   ],
   "source": [
    "sadia1.get_pin()"
   ]
  },
  {
   "cell_type": "code",
   "execution_count": 61,
   "id": "1e660da6",
   "metadata": {},
   "outputs": [
    {
     "name": "stdout",
     "output_type": "stream",
     "text": [
      "Enter you pin : sadia\n",
      "Enter the Amount : 15000\n",
      "Deposit Successfully \n"
     ]
    }
   ],
   "source": [
    "sadia1.deposit()"
   ]
  },
  {
   "cell_type": "code",
   "execution_count": 62,
   "id": "f1aa0684",
   "metadata": {},
   "outputs": [
    {
     "name": "stdout",
     "output_type": "stream",
     "text": [
      "Enter you pin : sadia\n",
      "Your Balance : 20000\n"
     ]
    }
   ],
   "source": [
    "sadia1.check_balance()"
   ]
  },
  {
   "cell_type": "code",
   "execution_count": 64,
   "id": "464643eb",
   "metadata": {},
   "outputs": [
    {
     "name": "stdout",
     "output_type": "stream",
     "text": [
      "Enter you pin : sadia\n",
      "Enter the Amount : 17000\n",
      "OPeration Successfully \n"
     ]
    }
   ],
   "source": [
    "sadia1.withdraw()"
   ]
  },
  {
   "cell_type": "code",
   "execution_count": 65,
   "id": "8cfdb33d",
   "metadata": {},
   "outputs": [
    {
     "name": "stdout",
     "output_type": "stream",
     "text": [
      "Enter you pin : sadia\n",
      "Your Balance : 3000\n"
     ]
    }
   ],
   "source": [
    "sadia1.check_balance()"
   ]
  },
  {
   "cell_type": "code",
   "execution_count": null,
   "id": "35d81204",
   "metadata": {},
   "outputs": [],
   "source": []
  }
 ],
 "metadata": {
  "kernelspec": {
   "display_name": "Python 3 (ipykernel)",
   "language": "python",
   "name": "python3"
  },
  "language_info": {
   "codemirror_mode": {
    "name": "ipython",
    "version": 3
   },
   "file_extension": ".py",
   "mimetype": "text/x-python",
   "name": "python",
   "nbconvert_exporter": "python",
   "pygments_lexer": "ipython3",
   "version": "3.9.7"
  }
 },
 "nbformat": 4,
 "nbformat_minor": 5
}
